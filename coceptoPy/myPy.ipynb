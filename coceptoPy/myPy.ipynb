{
 "cells": [
  {
   "cell_type": "markdown",
   "id": "2f2423e2",
   "metadata": {},
   "source": [
    "PRIMEROS PASOS PYTHON"
   ]
  },
  {
   "cell_type": "markdown",
   "id": "f411f31a",
   "metadata": {},
   "source": [
    "- Crear el perfil de python\n",
    "- primer hola mundo"
   ]
  },
  {
   "cell_type": "code",
   "execution_count": null,
   "id": "38a85a30",
   "metadata": {
    "vscode": {
     "languageId": "plaintext"
    }
   },
   "outputs": [],
   "source": [
    "print ('hola mundo')"
   ]
  },
  {
   "cell_type": "markdown",
   "id": "2dd8926a",
   "metadata": {},
   "source": [
    "-------------------------------------------------"
   ]
  },
  {
   "cell_type": "markdown",
   "id": "9d0d4987",
   "metadata": {},
   "source": [
    "SINTAXIS BASICA DE PYTHON, IDENTACION, HACER COMENTARIOS"
   ]
  },
  {
   "cell_type": "code",
   "execution_count": null,
   "id": "59a7f15e",
   "metadata": {
    "vscode": {
     "languageId": "plaintext"
    }
   },
   "outputs": [],
   "source": [
    "if 5>3:\n",
    "    print('cinco es mayor que tres')"
   ]
  },
  {
   "cell_type": "markdown",
   "id": "8f160784",
   "metadata": {},
   "source": [
    "- if : palabra reservada, significa 'si...',  \n",
    "- 5>3: comparamos el 5 con el 3, estos numero pueden ser remplazados por casi todo\n",
    "- print('resultado'): si 5 > 3 entonces se ejecuta el print, dentro de la tabulacion/sangria del condicional if"
   ]
  },
  {
   "cell_type": "markdown",
   "id": "f6db83c8",
   "metadata": {},
   "source": [
    "**- Preguntar que piensda sobre estas 2 condicione, q supone, q cree, para ir agarrando logica -**"
   ]
  },
  {
   "cell_type": "code",
   "execution_count": null,
   "id": "df1e651e",
   "metadata": {
    "vscode": {
     "languageId": "plaintext"
    }
   },
   "outputs": [],
   "source": [
    "if 5>3:\n",
    "    # comentario prueba\n",
    "    print('cinco es mayor que tres')\n",
    "    if 5 > 4:\n",
    "        print('cinco es mayor que cuatro')\n",
    "        # aqui finaliza el ciclo\n",
    "\n",
    "# -------- separador --------\n",
    "\n",
    "if 5>3:\n",
    "    if 5 > 4:\n",
    "        print('cinco es mayor que cuatro')"
   ]
  },
  {
   "cell_type": "markdown",
   "id": "8727cb22",
   "metadata": {},
   "source": [
    "-------------------------------------------------"
   ]
  },
  {
   "cell_type": "markdown",
   "id": "190233a9",
   "metadata": {},
   "source": [
    "VARIABLES"
   ]
  },
  {
   "cell_type": "markdown",
   "id": "3ccc19f7",
   "metadata": {},
   "source": [
    "- Una variable es un contenedor para almacenar valores de datos\n",
    "- La variable tiene nombre\n",
    "- Una variable es creada cuando se asigna un valor (en otros lenguaje shay q colocar lit, int, float, string, boolean"
   ]
  },
  {
   "cell_type": "code",
   "execution_count": null,
   "id": "ac75400b",
   "metadata": {
    "vscode": {
     "languageId": "plaintext"
    }
   },
   "outputs": [],
   "source": [
    "x = 5   \n",
    "txt = \"esto es texto\"   \n",
    "\n",
    "print('x: ',x)    \n",
    "print('txt: ',txt)\n",
    "\n",
    "num1 = \"7\"  \n",
    "num2 = 2   \n",
    "num2 = 4 # reasignacion de valor de la variable num2 \n",
    "Num2 = 3 # caseSensitive (interperta mayus y minus, como variables diferentes)\n",
    "  \n",
    "print('num1: ', num1)      \n",
    "print('num2: ', num2)   \n",
    "print('Num2: ', Num2)\n",
    "\n",
    "#print(\"ejemplo suma: \", int(num1) + num2) "
   ]
  },
  {
   "cell_type": "markdown",
   "id": "629e5756",
   "metadata": {},
   "source": [
    "*... good practices ...*"
   ]
  },
  {
   "cell_type": "code",
   "execution_count": null,
   "id": "9e4704fd",
   "metadata": {
    "vscode": {
     "languageId": "plaintext"
    }
   },
   "outputs": [],
   "source": [
    "# 1. las variables UNICAMENTE comienzan con una letra o guion bajo.\n",
    "\n",
    "miVariable = 'meroTxt'\n",
    "_mivariable = \"meroTxt\"\n",
    "\n",
    "MiVariable = 'meroTxt'\n",
    "_MiOtraVariable = '''\n",
    "meroTxt1\n",
    "meroTxt2\n",
    "'''\n",
    "\n",
    "# 2. NO puede iniciar con un numeor\n",
    "\n",
    "5miVariable = 5    --->     MAL\n",
    "\n",
    "# 3. Solo caracteres alfanumericos y guiones bajos *(A-z 0-9 _)*;\n",
    "\n",
    "miVariable123_ = 'texto 123'\n",
    "_1variable_23_2 = 23\n",
    "mi_var14b13_1 = \"\"\"\n",
    "texto 123\n",
    "texto 456\n",
    "\"\"\"\n",
    "\n",
    "# 4. CaseSensitive: si hay 2 variables con 1 uppercase  diferente, ete ya es\n",
    "valido como una variable diferente\n",
    "\n",
    "miVariable = 1\n",
    "MivAriable = 2\n",
    "\n",
    "# 5. No arriesgarse con palabras reservadas\n",
    "\n",
    "for = \"txt\""
   ]
  },
  {
   "cell_type": "markdown",
   "id": "40bb3218",
   "metadata": {},
   "source": [
    "-------------------------------------------------"
   ]
  },
  {
   "cell_type": "markdown",
   "id": "9ce5288d",
   "metadata": {},
   "source": [
    "*NORMAS DE ESCRITURA EN VARIABLES*"
   ]
  },
  {
   "cell_type": "markdown",
   "id": "a204f842",
   "metadata": {},
   "source": [
    "- camelCase = 'inicia min, cada palabra siguiente inicia con mayus'\n",
    "- PascalCase = 'inicia mayus, cada palabra siguiente inicia con mayus'\n",
    "- snake_case = 'se usan palabras min, cada palabra es separada por _ "
   ]
  },
  {
   "cell_type": "markdown",
   "id": "5375fa90",
   "metadata": {},
   "source": [
    "-------------------------------------------------"
   ]
  },
  {
   "cell_type": "markdown",
   "id": "167f258f",
   "metadata": {},
   "source": [
    "*MULTIASIGNACION*"
   ]
  },
  {
   "cell_type": "code",
   "execution_count": null,
   "id": "bda5cf99",
   "metadata": {
    "vscode": {
     "languageId": "plaintext"
    }
   },
   "outputs": [],
   "source": []
  },
  {
   "cell_type": "code",
   "execution_count": null,
   "id": "6dda0430",
   "metadata": {
    "vscode": {
     "languageId": "plaintext"
    }
   },
   "outputs": [],
   "source": [
    "#Multiasignacion de variables\n",
    "\n",
    "x,y,z = 5,3,2\n",
    "\n",
    "print(x)\n",
    "print(y)\n",
    "print(z)"
   ]
  },
  {
   "cell_type": "code",
   "execution_count": null,
   "id": "82d8d570",
   "metadata": {
    "vscode": {
     "languageId": "plaintext"
    }
   },
   "outputs": [],
   "source": [
    "#Multiasignacion desde una coleccion/list\n",
    "\n",
    "frutas = ['naranja','manzana','pera']\n",
    "m,n,o = frutas\n",
    "\n",
    "print(m)   \n",
    "print(n)\n",
    "print(o)"
   ]
  },
  {
   "cell_type": "code",
   "execution_count": null,
   "id": "2fb99a58",
   "metadata": {
    "vscode": {
     "languageId": "plaintext"
    }
   },
   "outputs": [],
   "source": [
    "a = b = c = 'meroTxt'\n",
    "\n",
    "b = 'txt'\n",
    "\n",
    "print(a) \n",
    "\n",
    "# en java o js, al hacer esto, a,b,c\n",
    "cambiaban de valor a 'txt',por el espacio en memoria y eso"
   ]
  },
  {
   "cell_type": "markdown",
   "id": "c92128dd",
   "metadata": {},
   "source": [
    "-------------------------------------------------"
   ]
  },
  {
   "cell_type": "markdown",
   "id": "f4f780f1",
   "metadata": {},
   "source": [
    "*VARIABLES GLOBALES Y DE SCOPE*"
   ]
  },
  {
   "cell_type": "markdown",
   "id": "675dd7a7",
   "metadata": {},
   "source": [
    "- variableGlobal = esta variable esta disponible para todo el programa\n",
    "- variableScope = esta variable esta limitada solo a la funcion que pertenece"
   ]
  },
  {
   "cell_type": "code",
   "execution_count": null,
   "id": "11379961",
   "metadata": {
    "vscode": {
     "languageId": "plaintext"
    }
   },
   "outputs": [],
   "source": [
    "varGlobal = 'txt global'\n",
    "\n",
    "def funcionZzz ():\n",
    "    varScope = 'txt scope en funcionZzz'\n",
    "    print(varGlobal)\n",
    "    print(varScope)\n",
    "\n",
    "functionZzz()\n",
    "\n",
    "print(varGlobal)\n",
    "print(varScope) # deberia dar error\n"
   ]
  },
  {
   "cell_type": "code",
   "execution_count": null,
   "id": "1947c295",
   "metadata": {
    "vscode": {
     "languageId": "plaintext"
    }
   },
   "outputs": [],
   "source": [
    "#  forma de solucionarlo\n",
    "\n",
    "varGlobal = 'txt global fuera'\n",
    "\n",
    "def funcionZzz ():\n",
    "    global varScope\n",
    "    \n",
    "    varGlobal = 'txt global en funcionZzz'\n",
    "    varScope = 'txt scope en funcionZzz'\n",
    "    print(varGlobal) #solo disponible en este scope \n",
    "    print(varScope)\n",
    "\n",
    "functionZzz()\n",
    "\n",
    "print(varGlobal)\n",
    "print(varScope) # deberia dar error"
   ]
  },
  {
   "cell_type": "markdown",
   "id": "51dff3a9",
   "metadata": {},
   "source": [
    "-------------------------------------------------"
   ]
  }
 ],
 "metadata": {
  "language_info": {
   "name": "python"
  }
 },
 "nbformat": 4,
 "nbformat_minor": 5
}
